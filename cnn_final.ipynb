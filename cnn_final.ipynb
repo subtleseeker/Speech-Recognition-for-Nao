{
 "cells": [
  {
   "cell_type": "markdown",
   "metadata": {},
   "source": [
    "## Importing libraries"
   ]
  },
  {
   "cell_type": "code",
   "execution_count": 1,
   "metadata": {},
   "outputs": [
    {
     "name": "stderr",
     "output_type": "stream",
     "text": [
      "Using TensorFlow backend.\n"
     ]
    }
   ],
   "source": [
    "import librosa\n",
    "import os\n",
    "from sklearn.model_selection import train_test_split\n",
    "from keras.utils import to_categorical\n",
    "import numpy as np\n",
    "from tqdm import tqdm"
   ]
  },
  {
   "cell_type": "markdown",
   "metadata": {},
   "source": [
    "## Create labels\n",
    "Input: Folder Path   \n",
    "Output: Tuple (Label, Indices of the labels, one-hot encoded labels)"
   ]
  },
  {
   "cell_type": "code",
   "execution_count": 2,
   "metadata": {},
   "outputs": [],
   "source": [
    "DATA_PATH = \"./eng_data/\"\n",
    "\n",
    "def get_labels(path=DATA_PATH):\n",
    "    labels = os.listdir(path)\n",
    "    label_indices = np.arange(0, len(labels))\n",
    "    return labels, label_indices, to_categorical(label_indices)"
   ]
  },
  {
   "cell_type": "markdown",
   "metadata": {},
   "source": [
    "## Converting wave to mfcc\n",
    "Input: path of file, maximum pad length(default=11)   \n",
    "Output: list of mfcc vectors"
   ]
  },
  {
   "cell_type": "code",
   "execution_count": 3,
   "metadata": {},
   "outputs": [],
   "source": [
    "def wav2mfcc(file_path, max_len=11):\n",
    "    wave, sr = librosa.load(file_path, mono=True, sr=None)\n",
    "    wave = wave[::3]\n",
    "    try:\n",
    "        mfcc = librosa.feature.mfcc(wave, sr=16000)\n",
    "    except Exception as e:\n",
    "        print(file_path)\n",
    "        print(e)\n",
    "        \n",
    "    # If maximum length exceeds mfcc lengths then pad the remaining ones\n",
    "    if (max_len > mfcc.shape[1]):\n",
    "        pad_width = max_len - mfcc.shape[1]\n",
    "        mfcc = np.pad(mfcc, pad_width=((0, 0), (0, pad_width)), mode='constant')\n",
    "\n",
    "    # Else cutoff the remaining parts\n",
    "    else:\n",
    "        mfcc = mfcc[:, :max_len]\n",
    "    \n",
    "    return mfcc"
   ]
  },
  {
   "cell_type": "markdown",
   "metadata": {},
   "source": [
    "## Saving mfcc vectors to .npy files\n",
    "Input: path to write files   "
   ]
  },
  {
   "cell_type": "code",
   "execution_count": 4,
   "metadata": {},
   "outputs": [],
   "source": [
    "def save_data_to_array(path=DATA_PATH, max_len=11):\n",
    "    labels, _, _ = get_labels(path)\n",
    "\n",
    "    for label in labels:\n",
    "        mfcc_vectors = []\n",
    "        wavfiles = [path + label + '/' + wavfile for wavfile in os.listdir(path + '/' + label)]\n",
    "        \n",
    "        for wavfile in tqdm(wavfiles, \"Saving vectors of label - '{}'\".format(label)):\n",
    "            mfcc = wav2mfcc(wavfile, max_len=max_len)\n",
    "            mfcc_vectors.append(mfcc)\n",
    "            \n",
    "        np.save(label + '.npy', mfcc_vectors)"
   ]
  },
  {
   "cell_type": "markdown",
   "metadata": {},
   "source": [
    "## Dividing data into training set and testing set\n",
    "Input: split ratio (default=0.8)    \n",
    "Output: 2 arrays of training and testing"
   ]
  },
  {
   "cell_type": "code",
   "execution_count": 5,
   "metadata": {},
   "outputs": [],
   "source": [
    "def get_train_test(split_ratio=0.8):\n",
    "    # Get available labels\n",
    "    labels, indices, _ = get_labels(DATA_PATH)\n",
    "\n",
    "    # Getting first arrays\n",
    "    X = np.load(labels[0] + '.npy')\n",
    "    y = np.zeros(X.shape[0])\n",
    "\n",
    "    # Append all of the dataset into one single array, same goes for y\n",
    "    for i, label in enumerate(labels[1:]):\n",
    "        x = np.load(label + '.npy')\n",
    "        X = np.vstack((X, x))\n",
    "        y = np.append(y, np.full(x.shape[0], fill_value= (i+1)))\n",
    "\n",
    "    assert X.shape[0] == len(y)\n",
    "\n",
    "    return train_test_split(X, y, test_size= (1 - split_ratio), shuffle=True)"
   ]
  },
  {
   "cell_type": "markdown",
   "metadata": {},
   "source": [
    "## Initialization by calling the necessay functions"
   ]
  },
  {
   "cell_type": "code",
   "execution_count": 6,
   "metadata": {},
   "outputs": [],
   "source": [
    "import keras\n",
    "from keras.models import Sequential\n",
    "from keras.layers import Dense, Dropout, Flatten, Conv2D, MaxPooling2D\n",
    "from keras.utils import to_categorical\n",
    "\n",
    "# Second dimension of the feature is dim2\n",
    "feature_dim_2 = 11\n",
    "\n",
    "# Save data to array file first (Comment next line when npy files are created to save time)\n",
    "# save_data_to_array(max_len=feature_dim_2)\n",
    "\n",
    "# Loading train set and test set\n",
    "X_train, X_test, y_train, y_test = get_train_test()\n",
    "\n",
    "# Feature dimension\n",
    "feature_dim_1 = 20\n",
    "channel = 1\n",
    "epochs = 50\n",
    "batch_size = 100\n",
    "verbose = 1\n",
    "num_classes = 10\n",
    "\n",
    "# Reshaping to perform 2D convolution\n",
    "X_train = X_train.reshape(X_train.shape[0], feature_dim_1, feature_dim_2, channel)\n",
    "X_test = X_test.reshape(X_test.shape[0], feature_dim_1, feature_dim_2, channel)\n",
    "\n",
    "y_train_hot = to_categorical(y_train)\n",
    "y_test_hot = to_categorical(y_test)"
   ]
  },
  {
   "cell_type": "markdown",
   "metadata": {},
   "source": [
    "## Creating the model"
   ]
  },
  {
   "cell_type": "code",
   "execution_count": 7,
   "metadata": {},
   "outputs": [],
   "source": [
    "def get_model():\n",
    "    model = Sequential()\n",
    "    model.add(Conv2D(32, kernel_size=(2, 2), activation='relu', input_shape=(feature_dim_1, feature_dim_2, channel)))\n",
    "    model.add(Conv2D(48, kernel_size=(2, 2), activation='relu'))\n",
    "    model.add(Conv2D(120, kernel_size=(2, 2), activation='relu'))\n",
    "    model.add(MaxPooling2D(pool_size=(2, 2)))\n",
    "    model.add(Dropout(0.25))\n",
    "    model.add(Flatten())\n",
    "    model.add(Dense(128, activation='relu'))\n",
    "    model.add(Dropout(0.25))\n",
    "    model.add(Dense(64, activation='relu'))\n",
    "    model.add(Dropout(0.4))\n",
    "    model.add(Dense(num_classes, activation='softmax'))\n",
    "    model.compile(loss=keras.losses.categorical_crossentropy,\n",
    "                  optimizer=keras.optimizers.Adadelta(),\n",
    "                  metrics=['accuracy'])\n",
    "    return model"
   ]
  },
  {
   "cell_type": "code",
   "execution_count": 8,
   "metadata": {},
   "outputs": [],
   "source": [
    "# Predicts a sample\n",
    "def predict(filepath, model):\n",
    "    sample = wav2mfcc(filepath)\n",
    "    sample_reshaped = sample.reshape(1, feature_dim_1, feature_dim_2, channel)\n",
    "    return get_labels()[0][\n",
    "            np.argmax(model.predict(sample_reshaped))\n",
    "    ]"
   ]
  },
  {
   "cell_type": "markdown",
   "metadata": {},
   "source": [
    "## Starting the training process"
   ]
  },
  {
   "cell_type": "code",
   "execution_count": 9,
   "metadata": {},
   "outputs": [
    {
     "name": "stdout",
     "output_type": "stream",
     "text": [
      "Train on 18945 samples, validate on 4737 samples\n",
      "Epoch 1/50\n",
      "18945/18945 [==============================] - 18s 965us/step - loss: 2.3506 - acc: 0.1749 - val_loss: 1.8104 - val_acc: 0.3857\n",
      "Epoch 2/50\n",
      "18945/18945 [==============================] - 16s 869us/step - loss: 1.5688 - acc: 0.4349 - val_loss: 1.0811 - val_acc: 0.6038\n",
      "Epoch 3/50\n",
      "18945/18945 [==============================] - 20s 1ms/step - loss: 1.0911 - acc: 0.6228 - val_loss: 0.8470 - val_acc: 0.7235\n",
      "Epoch 4/50\n",
      "18945/18945 [==============================] - 17s 896us/step - loss: 0.8426 - acc: 0.7224 - val_loss: 0.5921 - val_acc: 0.8007\n",
      "Epoch 5/50\n",
      "18945/18945 [==============================] - 17s 881us/step - loss: 0.6962 - acc: 0.7700 - val_loss: 0.5652 - val_acc: 0.8134\n",
      "Epoch 6/50\n",
      "18945/18945 [==============================] - 20s 1ms/step - loss: 0.6003 - acc: 0.8016 - val_loss: 0.4799 - val_acc: 0.8410\n",
      "Epoch 7/50\n",
      "18945/18945 [==============================] - 21s 1ms/step - loss: 0.5218 - acc: 0.8267 - val_loss: 0.4868 - val_acc: 0.8381\n",
      "Epoch 8/50\n",
      "18945/18945 [==============================] - 20s 1ms/step - loss: 0.4711 - acc: 0.8464 - val_loss: 0.4404 - val_acc: 0.8533\n",
      "Epoch 9/50\n",
      "18945/18945 [==============================] - 21s 1ms/step - loss: 0.4283 - acc: 0.8597 - val_loss: 0.4593 - val_acc: 0.8478\n",
      "Epoch 10/50\n",
      "18945/18945 [==============================] - 21s 1ms/step - loss: 0.3832 - acc: 0.8745 - val_loss: 0.4514 - val_acc: 0.8535\n",
      "Epoch 11/50\n",
      "18945/18945 [==============================] - 21s 1ms/step - loss: 0.3409 - acc: 0.8887 - val_loss: 0.4472 - val_acc: 0.8558\n",
      "Epoch 12/50\n",
      "18945/18945 [==============================] - 21s 1ms/step - loss: 0.3279 - acc: 0.8929 - val_loss: 0.5679 - val_acc: 0.8280\n",
      "Epoch 13/50\n",
      "18945/18945 [==============================] - 21s 1ms/step - loss: 0.2898 - acc: 0.9072 - val_loss: 0.4388 - val_acc: 0.8649\n",
      "Epoch 14/50\n",
      "18945/18945 [==============================] - 21s 1ms/step - loss: 0.2698 - acc: 0.9127 - val_loss: 0.4232 - val_acc: 0.8706\n",
      "Epoch 15/50\n",
      "18945/18945 [==============================] - 21s 1ms/step - loss: 0.2607 - acc: 0.9144 - val_loss: 0.4239 - val_acc: 0.8659\n",
      "Epoch 16/50\n",
      "18945/18945 [==============================] - 21s 1ms/step - loss: 0.2298 - acc: 0.9241 - val_loss: 0.4315 - val_acc: 0.8664\n",
      "Epoch 17/50\n",
      "18945/18945 [==============================] - 21s 1ms/step - loss: 0.2325 - acc: 0.9256 - val_loss: 0.4246 - val_acc: 0.8731\n",
      "Epoch 18/50\n",
      "18945/18945 [==============================] - 22s 1ms/step - loss: 0.2115 - acc: 0.9299 - val_loss: 0.4078 - val_acc: 0.8763\n",
      "Epoch 19/50\n",
      "18945/18945 [==============================] - 17s 889us/step - loss: 0.2019 - acc: 0.9365 - val_loss: 0.5228 - val_acc: 0.8586\n",
      "Epoch 20/50\n",
      "18945/18945 [==============================] - 17s 886us/step - loss: 0.1915 - acc: 0.9379 - val_loss: 0.4283 - val_acc: 0.8731\n",
      "Epoch 21/50\n",
      "18945/18945 [==============================] - 19s 990us/step - loss: 0.1867 - acc: 0.9394 - val_loss: 0.4811 - val_acc: 0.8664\n",
      "Epoch 22/50\n",
      "18945/18945 [==============================] - 19s 977us/step - loss: 0.1727 - acc: 0.9449 - val_loss: 0.4251 - val_acc: 0.8761\n",
      "Epoch 23/50\n",
      "18945/18945 [==============================] - 19s 993us/step - loss: 0.1687 - acc: 0.9465 - val_loss: 0.4551 - val_acc: 0.8727\n",
      "Epoch 24/50\n",
      "18945/18945 [==============================] - 20s 1ms/step - loss: 0.1679 - acc: 0.9478 - val_loss: 0.4574 - val_acc: 0.8738\n",
      "Epoch 25/50\n",
      "18945/18945 [==============================] - 22s 1ms/step - loss: 0.1574 - acc: 0.9500 - val_loss: 0.4614 - val_acc: 0.8740\n",
      "Epoch 26/50\n",
      "18945/18945 [==============================] - 22s 1ms/step - loss: 0.1483 - acc: 0.9539 - val_loss: 0.4610 - val_acc: 0.8733\n",
      "Epoch 27/50\n",
      "18945/18945 [==============================] - 22s 1ms/step - loss: 0.1420 - acc: 0.9547 - val_loss: 0.4915 - val_acc: 0.8748\n",
      "Epoch 28/50\n",
      "18945/18945 [==============================] - 20s 1ms/step - loss: 0.1449 - acc: 0.9557 - val_loss: 0.4443 - val_acc: 0.8795\n",
      "Epoch 29/50\n",
      "18945/18945 [==============================] - 19s 1ms/step - loss: 0.1382 - acc: 0.9571 - val_loss: 0.5179 - val_acc: 0.8666\n",
      "Epoch 30/50\n",
      "18945/18945 [==============================] - 20s 1ms/step - loss: 0.1336 - acc: 0.9564 - val_loss: 0.4994 - val_acc: 0.8702\n",
      "Epoch 31/50\n",
      "18945/18945 [==============================] - 20s 1ms/step - loss: 0.1285 - acc: 0.9612 - val_loss: 0.4999 - val_acc: 0.8752\n",
      "Epoch 32/50\n",
      "18945/18945 [==============================] - 19s 985us/step - loss: 0.1207 - acc: 0.9622 - val_loss: 0.4880 - val_acc: 0.8719\n",
      "Epoch 33/50\n",
      "18945/18945 [==============================] - 19s 1ms/step - loss: 0.1200 - acc: 0.9614 - val_loss: 0.4770 - val_acc: 0.8746\n",
      "Epoch 34/50\n",
      "18945/18945 [==============================] - 20s 1ms/step - loss: 0.1232 - acc: 0.9651 - val_loss: 0.5196 - val_acc: 0.8731\n",
      "Epoch 35/50\n",
      "18945/18945 [==============================] - 17s 924us/step - loss: 0.1101 - acc: 0.9667 - val_loss: 0.5124 - val_acc: 0.8746\n",
      "Epoch 36/50\n",
      "18945/18945 [==============================] - 16s 829us/step - loss: 0.1142 - acc: 0.9640 - val_loss: 0.5411 - val_acc: 0.8780\n",
      "Epoch 37/50\n",
      "18945/18945 [==============================] - 16s 828us/step - loss: 0.1119 - acc: 0.9657 - val_loss: 0.5728 - val_acc: 0.8685\n",
      "Epoch 38/50\n",
      "18945/18945 [==============================] - 16s 833us/step - loss: 0.1035 - acc: 0.9682 - val_loss: 0.4737 - val_acc: 0.8733\n",
      "Epoch 39/50\n",
      "18945/18945 [==============================] - 18s 932us/step - loss: 0.1101 - acc: 0.9675 - val_loss: 0.5589 - val_acc: 0.8754\n",
      "Epoch 40/50\n",
      "18945/18945 [==============================] - 19s 990us/step - loss: 0.1071 - acc: 0.9661 - val_loss: 0.5742 - val_acc: 0.8746\n",
      "Epoch 41/50\n",
      "18945/18945 [==============================] - 18s 968us/step - loss: 0.1015 - acc: 0.9708 - val_loss: 0.5977 - val_acc: 0.8763\n",
      "Epoch 42/50\n",
      "18945/18945 [==============================] - 22s 1ms/step - loss: 0.1046 - acc: 0.9692 - val_loss: 0.5342 - val_acc: 0.8818\n",
      "Epoch 43/50\n",
      "18945/18945 [==============================] - 22s 1ms/step - loss: 0.0989 - acc: 0.9701 - val_loss: 0.5404 - val_acc: 0.8769\n",
      "Epoch 44/50\n",
      "18945/18945 [==============================] - 22s 1ms/step - loss: 0.0986 - acc: 0.9711 - val_loss: 0.5044 - val_acc: 0.8735\n",
      "Epoch 45/50\n",
      "18945/18945 [==============================] - 22s 1ms/step - loss: 0.1056 - acc: 0.9706 - val_loss: 0.5844 - val_acc: 0.8748\n",
      "Epoch 46/50\n",
      "18945/18945 [==============================] - 20s 1ms/step - loss: 0.1029 - acc: 0.9705 - val_loss: 0.5096 - val_acc: 0.8788\n",
      "Epoch 47/50\n",
      "18945/18945 [==============================] - 20s 1ms/step - loss: 0.1034 - acc: 0.9684 - val_loss: 0.6840 - val_acc: 0.8748\n",
      "Epoch 48/50\n",
      "18945/18945 [==============================] - 18s 941us/step - loss: 0.0999 - acc: 0.9701 - val_loss: 0.5693 - val_acc: 0.8704\n",
      "Epoch 49/50\n",
      "18945/18945 [==============================] - 16s 839us/step - loss: 0.1111 - acc: 0.9676 - val_loss: 0.5819 - val_acc: 0.8769\n",
      "Epoch 50/50\n",
      "18945/18945 [==============================] - 16s 854us/step - loss: 0.0941 - acc: 0.9711 - val_loss: 0.5528 - val_acc: 0.8788\n"
     ]
    },
    {
     "data": {
      "text/plain": [
       "<keras.callbacks.History at 0x7fa735179d30>"
      ]
     },
     "execution_count": 9,
     "metadata": {},
     "output_type": "execute_result"
    }
   ],
   "source": [
    "model = get_model()\n",
    "model.fit(X_train, y_train_hot, batch_size=batch_size, epochs=epochs, verbose=verbose, validation_data=(X_test, y_test_hot))"
   ]
  },
  {
   "cell_type": "markdown",
   "metadata": {},
   "source": [
    "## Model visualized"
   ]
  },
  {
   "cell_type": "code",
   "execution_count": 10,
   "metadata": {},
   "outputs": [
    {
     "name": "stdout",
     "output_type": "stream",
     "text": [
      "_________________________________________________________________\n",
      "Layer (type)                 Output Shape              Param #   \n",
      "=================================================================\n",
      "conv2d_1 (Conv2D)            (None, 19, 10, 32)        160       \n",
      "_________________________________________________________________\n",
      "conv2d_2 (Conv2D)            (None, 18, 9, 48)         6192      \n",
      "_________________________________________________________________\n",
      "conv2d_3 (Conv2D)            (None, 17, 8, 120)        23160     \n",
      "_________________________________________________________________\n",
      "max_pooling2d_1 (MaxPooling2 (None, 8, 4, 120)         0         \n",
      "_________________________________________________________________\n",
      "dropout_1 (Dropout)          (None, 8, 4, 120)         0         \n",
      "_________________________________________________________________\n",
      "flatten_1 (Flatten)          (None, 3840)              0         \n",
      "_________________________________________________________________\n",
      "dense_1 (Dense)              (None, 128)               491648    \n",
      "_________________________________________________________________\n",
      "dropout_2 (Dropout)          (None, 128)               0         \n",
      "_________________________________________________________________\n",
      "dense_2 (Dense)              (None, 64)                8256      \n",
      "_________________________________________________________________\n",
      "dropout_3 (Dropout)          (None, 64)                0         \n",
      "_________________________________________________________________\n",
      "dense_3 (Dense)              (None, 10)                650       \n",
      "=================================================================\n",
      "Total params: 530,066\n",
      "Trainable params: 530,066\n",
      "Non-trainable params: 0\n",
      "_________________________________________________________________\n"
     ]
    }
   ],
   "source": [
    "model.summary()"
   ]
  },
  {
   "cell_type": "code",
   "execution_count": 11,
   "metadata": {},
   "outputs": [
    {
     "name": "stdout",
     "output_type": "stream",
     "text": [
      "{'_built': True,\n",
      " '_collected_trainable_weights': [<tf.Variable 'conv2d_1/kernel:0' shape=(2, 2, 1, 32) dtype=float32_ref>,\n",
      "                                  <tf.Variable 'conv2d_1/bias:0' shape=(32,) dtype=float32_ref>,\n",
      "                                  <tf.Variable 'conv2d_2/kernel:0' shape=(2, 2, 32, 48) dtype=float32_ref>,\n",
      "                                  <tf.Variable 'conv2d_2/bias:0' shape=(48,) dtype=float32_ref>,\n",
      "                                  <tf.Variable 'conv2d_3/kernel:0' shape=(2, 2, 48, 120) dtype=float32_ref>,\n",
      "                                  <tf.Variable 'conv2d_3/bias:0' shape=(120,) dtype=float32_ref>,\n",
      "                                  <tf.Variable 'dense_1/kernel:0' shape=(3840, 128) dtype=float32_ref>,\n",
      "                                  <tf.Variable 'dense_1/bias:0' shape=(128,) dtype=float32_ref>,\n",
      "                                  <tf.Variable 'dense_2/kernel:0' shape=(128, 64) dtype=float32_ref>,\n",
      "                                  <tf.Variable 'dense_2/bias:0' shape=(64,) dtype=float32_ref>,\n",
      "                                  <tf.Variable 'dense_3/kernel:0' shape=(64, 10) dtype=float32_ref>,\n",
      "                                  <tf.Variable 'dense_3/bias:0' shape=(10,) dtype=float32_ref>],\n",
      " '_compute_previous_mask': True,\n",
      " '_expects_training_arg': False,\n",
      " '_feed_input_names': ['conv2d_1_input'],\n",
      " '_feed_input_shapes': [(None, 20, 11, 1)],\n",
      " '_feed_inputs': [<tf.Tensor 'conv2d_1_input:0' shape=(?, 20, 11, 1) dtype=float32>],\n",
      " '_feed_loss_fns': [<function categorical_crossentropy at 0x7fa7352b9378>],\n",
      " '_feed_output_names': ['dense_3'],\n",
      " '_feed_output_shapes': [(None, 10)],\n",
      " '_feed_outputs': [<tf.Tensor 'dense_3/Softmax:0' shape=(?, 10) dtype=float32>],\n",
      " '_feed_sample_weight_modes': [None],\n",
      " '_feed_sample_weights': [<tf.Tensor 'dense_3_sample_weights:0' shape=(?,) dtype=float32>],\n",
      " '_feed_targets': [<tf.Tensor 'dense_3_target:0' shape=(?, ?) dtype=float32>],\n",
      " '_function_kwargs': {},\n",
      " '_inbound_nodes': [<keras.engine.base_layer.Node object at 0x7fa73517ae10>],\n",
      " '_initial_weights': None,\n",
      " '_input_coordinates': [(<keras.engine.input_layer.InputLayer object at 0x7fa735179f60>,\n",
      "                         0,\n",
      "                         0)],\n",
      " '_input_layers': [<keras.engine.input_layer.InputLayer object at 0x7fa735179f60>],\n",
      " '_is_compiled': True,\n",
      " '_is_graph_network': True,\n",
      " '_layers': [<keras.engine.input_layer.InputLayer object at 0x7fa735179f60>,\n",
      "             <keras.layers.convolutional.Conv2D object at 0x7fa735179dd8>,\n",
      "             <keras.layers.convolutional.Conv2D object at 0x7fa73517add8>,\n",
      "             <keras.layers.convolutional.Conv2D object at 0x7fa7309a1cf8>,\n",
      "             <keras.layers.pooling.MaxPooling2D object at 0x7fa735118080>,\n",
      "             <keras.layers.core.Dropout object at 0x7fa735118978>,\n",
      "             <keras.layers.core.Flatten object at 0x7fa735118e80>,\n",
      "             <keras.layers.core.Dense object at 0x7fa735136400>,\n",
      "             <keras.layers.core.Dropout object at 0x7fa7350a5550>,\n",
      "             <keras.layers.core.Dense object at 0x7fa7350a5240>,\n",
      "             <keras.layers.core.Dropout object at 0x7fa735048240>,\n",
      "             <keras.layers.core.Dense object at 0x7fa73506da58>],\n",
      " '_layers_by_depth': {0: [<keras.layers.core.Dense object at 0x7fa73506da58>],\n",
      "                      1: [<keras.layers.core.Dropout object at 0x7fa735048240>],\n",
      "                      2: [<keras.layers.core.Dense object at 0x7fa7350a5240>],\n",
      "                      3: [<keras.layers.core.Dropout object at 0x7fa7350a5550>],\n",
      "                      4: [<keras.layers.core.Dense object at 0x7fa735136400>],\n",
      "                      5: [<keras.layers.core.Flatten object at 0x7fa735118e80>],\n",
      "                      6: [<keras.layers.core.Dropout object at 0x7fa735118978>],\n",
      "                      7: [<keras.layers.pooling.MaxPooling2D object at 0x7fa735118080>],\n",
      "                      8: [<keras.layers.convolutional.Conv2D object at 0x7fa7309a1cf8>],\n",
      "                      9: [<keras.layers.convolutional.Conv2D object at 0x7fa73517add8>],\n",
      "                      10: [<keras.layers.convolutional.Conv2D object at 0x7fa735179dd8>],\n",
      "                      11: [<keras.engine.input_layer.InputLayer object at 0x7fa735179f60>]},\n",
      " '_losses': [],\n",
      " '_network_nodes': {'conv2d_1_ib-0',\n",
      "                    'conv2d_1_input_ib-0',\n",
      "                    'conv2d_2_ib-0',\n",
      "                    'conv2d_3_ib-0',\n",
      "                    'dense_1_ib-0',\n",
      "                    'dense_2_ib-0',\n",
      "                    'dense_3_ib-0',\n",
      "                    'dropout_1_ib-0',\n",
      "                    'dropout_2_ib-0',\n",
      "                    'dropout_3_ib-0',\n",
      "                    'flatten_1_ib-0',\n",
      "                    'max_pooling2d_1_ib-0'},\n",
      " '_nodes_by_depth': {0: [<keras.engine.base_layer.Node object at 0x7fa734deb550>],\n",
      "                     1: [<keras.engine.base_layer.Node object at 0x7fa73506ddd8>],\n",
      "                     2: [<keras.engine.base_layer.Node object at 0x7fa73506df60>],\n",
      "                     3: [<keras.engine.base_layer.Node object at 0x7fa7350a5cc0>],\n",
      "                     4: [<keras.engine.base_layer.Node object at 0x7fa7350a5d30>],\n",
      "                     5: [<keras.engine.base_layer.Node object at 0x7fa7350f7080>],\n",
      "                     6: [<keras.engine.base_layer.Node object at 0x7fa7350d3320>],\n",
      "                     7: [<keras.engine.base_layer.Node object at 0x7fa735136cf8>],\n",
      "                     8: [<keras.engine.base_layer.Node object at 0x7fa735136e10>],\n",
      "                     9: [<keras.engine.base_layer.Node object at 0x7fa735118e48>],\n",
      "                     10: [<keras.engine.base_layer.Node object at 0x7fa73517acc0>],\n",
      "                     11: [<keras.engine.base_layer.Node object at 0x7fa73517aa20>]},\n",
      " '_outbound_nodes': [],\n",
      " '_output_coordinates': [(<keras.layers.core.Dense object at 0x7fa73506da58>,\n",
      "                          0,\n",
      "                          0)],\n",
      " '_output_layers': [<keras.layers.core.Dense object at 0x7fa73506da58>],\n",
      " '_output_mask_cache': {'140356127008808_94868739910448': None},\n",
      " '_output_shape_cache': {},\n",
      " '_output_tensor_cache': {},\n",
      " '_per_input_losses': {},\n",
      " '_per_input_updates': {},\n",
      " '_updates': [],\n",
      " '_uses_inputs_arg': True,\n",
      " 'history': <keras.callbacks.History object at 0x7fa735179d30>,\n",
      " 'input_names': ['conv2d_1_input'],\n",
      " 'inputs': [<tf.Tensor 'conv2d_1_input:0' shape=(?, 20, 11, 1) dtype=float32>],\n",
      " 'loss': <function categorical_crossentropy at 0x7fa7352b9378>,\n",
      " 'loss_functions': [<function categorical_crossentropy at 0x7fa7352b9378>],\n",
      " 'loss_weights': None,\n",
      " 'metrics': ['accuracy'],\n",
      " 'metrics_names': ['loss', 'acc'],\n",
      " 'metrics_tensors': [<tf.Tensor 'metrics/acc/Mean:0' shape=() dtype=float32>],\n",
      " 'metrics_updates': [],\n",
      " 'name': 'sequential_1',\n",
      " 'optimizer': <keras.optimizers.Adadelta object at 0x7fa73501a470>,\n",
      " 'output_names': ['dense_3'],\n",
      " 'outputs': [<tf.Tensor 'dense_3/Softmax:0' shape=(?, 10) dtype=float32>],\n",
      " 'predict_function': None,\n",
      " 'sample_weight_mode': None,\n",
      " 'sample_weight_modes': [None],\n",
      " 'sample_weights': [<tf.Tensor 'dense_3_sample_weights:0' shape=(?,) dtype=float32>],\n",
      " 'stateful_metric_functions': [],\n",
      " 'stateful_metric_names': [],\n",
      " 'stop_training': False,\n",
      " 'supports_masking': False,\n",
      " 'targets': [<tf.Tensor 'dense_3_target:0' shape=(?, ?) dtype=float32>],\n",
      " 'test_function': <keras.backend.tensorflow_backend.Function object at 0x7fa73501a160>,\n",
      " 'total_loss': <tf.Tensor 'loss/mul:0' shape=() dtype=float32>,\n",
      " 'train_function': <keras.backend.tensorflow_backend.Function object at 0x7fa734deb6a0>,\n",
      " 'trainable': True,\n",
      " 'weighted_metrics': None}\n"
     ]
    }
   ],
   "source": [
    "# A nice method to check all the attributes of an object\n",
    "from pprint import pprint\n",
    "pprint(vars(model))"
   ]
  },
  {
   "cell_type": "markdown",
   "metadata": {},
   "source": [
    "## Prediction"
   ]
  },
  {
   "cell_type": "code",
   "execution_count": 12,
   "metadata": {},
   "outputs": [
    {
     "name": "stdout",
     "output_type": "stream",
     "text": [
      "left\n"
     ]
    }
   ],
   "source": [
    "print(predict('./eng_data/left/1cc80e39_nohash_0.wav', model=model))"
   ]
  },
  {
   "cell_type": "markdown",
   "metadata": {},
   "source": [
    "# Testing the model in realtime"
   ]
  },
  {
   "cell_type": "code",
   "execution_count": 13,
   "metadata": {},
   "outputs": [],
   "source": [
    "import sounddevice as sd\n",
    "import time"
   ]
  },
  {
   "cell_type": "markdown",
   "metadata": {},
   "source": [
    "## Converting the recorded array to mfcc\n",
    "Instead of recording speech into a file and reading from it to create an array, this function would directly convert the recorded array into mfcc coefficients."
   ]
  },
  {
   "cell_type": "code",
   "execution_count": 14,
   "metadata": {},
   "outputs": [],
   "source": [
    "def array2mfcc(wave, max_len=11):\n",
    "    sr = 16000\n",
    "    wave = wave[::3]\n",
    "    mfcc = librosa.feature.mfcc(wave, sr=16000)\n",
    "\n",
    "    # If maximum length exceeds mfcc lengths then pad the remaining ones\n",
    "    if (max_len > mfcc.shape[1]):\n",
    "        pad_width = max_len - mfcc.shape[1]\n",
    "        mfcc = np.pad(mfcc, pad_width=((0, 0), (0, pad_width)), mode='constant')\n",
    "\n",
    "    # Else cutoff the remaining parts\n",
    "    else:\n",
    "        mfcc = mfcc[:, :max_len]\n",
    "    \n",
    "    return mfcc"
   ]
  },
  {
   "cell_type": "code",
   "execution_count": 15,
   "metadata": {},
   "outputs": [
    {
     "data": {
      "text/plain": [
       "['down', 'go', 'left', 'no', 'off', 'on', 'right', 'stop', 'up', 'yes']"
      ]
     },
     "execution_count": 15,
     "metadata": {},
     "output_type": "execute_result"
    }
   ],
   "source": [
    "## For reference: These are the words trained to the classifier \n",
    "get_labels()[0]"
   ]
  },
  {
   "cell_type": "markdown",
   "metadata": {},
   "source": [
    "## Recording...\n",
    "Please speak after executing the next cell.   "
   ]
  },
  {
   "cell_type": "code",
   "execution_count": 16,
   "metadata": {},
   "outputs": [],
   "source": [
    "duration = 1  # seconds\n",
    "fs = 16000\n",
    "new_sample = sd.rec(int(duration * fs), samplerate=fs, channels=1)\n",
    "time.sleep(duration)"
   ]
  },
  {
   "cell_type": "code",
   "execution_count": 17,
   "metadata": {},
   "outputs": [],
   "source": [
    "sd.play(new_sample, fs)"
   ]
  },
  {
   "cell_type": "code",
   "execution_count": 18,
   "metadata": {},
   "outputs": [
    {
     "name": "stdout",
     "output_type": "stream",
     "text": [
      "off\n"
     ]
    }
   ],
   "source": [
    "new_sample = new_sample.reshape(-1)\n",
    "sample = array2mfcc(new_sample)\n",
    "sample_reshaped = sample.reshape(1,20,11,1)\n",
    "\n",
    "print(get_labels()[0][np.argmax(model.predict(sample_reshaped))])"
   ]
  },
  {
   "cell_type": "code",
   "execution_count": 19,
   "metadata": {},
   "outputs": [
    {
     "ename": "SyntaxError",
     "evalue": "invalid syntax (<ipython-input-19-ebe35fe59f44>, line 1)",
     "output_type": "error",
     "traceback": [
      "\u001b[0;36m  File \u001b[0;32m\"<ipython-input-19-ebe35fe59f44>\"\u001b[0;36m, line \u001b[0;32m1\u001b[0m\n\u001b[0;31m    ..stop..\u001b[0m\n\u001b[0m    ^\u001b[0m\n\u001b[0;31mSyntaxError\u001b[0m\u001b[0;31m:\u001b[0m invalid syntax\n"
     ]
    }
   ],
   "source": [
    "..stop.."
   ]
  },
  {
   "cell_type": "markdown",
   "metadata": {},
   "source": [
    "## Saving classifier"
   ]
  },
  {
   "cell_type": "code",
   "execution_count": 20,
   "metadata": {},
   "outputs": [],
   "source": [
    "model_json = model.to_json()"
   ]
  },
  {
   "cell_type": "code",
   "execution_count": 21,
   "metadata": {},
   "outputs": [],
   "source": [
    "with open(\"model2.json\", \"w\") as json_file:\n",
    "    json_file.write(model_json)"
   ]
  },
  {
   "cell_type": "code",
   "execution_count": 22,
   "metadata": {},
   "outputs": [],
   "source": [
    "model.save_weights(\"model2.h5\")"
   ]
  },
  {
   "cell_type": "markdown",
   "metadata": {},
   "source": [
    "## Loading classifier"
   ]
  },
  {
   "cell_type": "code",
   "execution_count": null,
   "metadata": {},
   "outputs": [],
   "source": [
    "from keras.models import model_from_json\n",
    "# load json and create model\n",
    "json_file = open('model.json', 'r')\n",
    "model_json = json_file.read()\n",
    "json_file.close()\n",
    "model = model_from_json(model_json)\n",
    "# load weights into new model\n",
    "model.load_weights(\"model.h5\")\n",
    "print(\"Loaded model from disk\")"
   ]
  }
 ],
 "metadata": {
  "kernelspec": {
   "display_name": "Python 3",
   "language": "python",
   "name": "python3"
  },
  "language_info": {
   "codemirror_mode": {
    "name": "ipython",
    "version": 3
   },
   "file_extension": ".py",
   "mimetype": "text/x-python",
   "name": "python",
   "nbconvert_exporter": "python",
   "pygments_lexer": "ipython3",
   "version": "3.6.8"
  }
 },
 "nbformat": 4,
 "nbformat_minor": 2
}
